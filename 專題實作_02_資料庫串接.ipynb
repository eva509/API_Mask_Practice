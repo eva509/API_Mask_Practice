{
  "nbformat": 4,
  "nbformat_minor": 0,
  "metadata": {
    "colab": {
      "provenance": [],
      "authorship_tag": "ABX9TyNOcVTOBXQwFPIDy9lamCA2",
      "include_colab_link": true
    },
    "kernelspec": {
      "name": "python3",
      "display_name": "Python 3"
    },
    "language_info": {
      "name": "python"
    }
  },
  "cells": [
    {
      "cell_type": "markdown",
      "metadata": {
        "id": "view-in-github",
        "colab_type": "text"
      },
      "source": [
        "<a href=\"https://colab.research.google.com/github/hui509/API_Mask_Practice/blob/main/%E5%B0%88%E9%A1%8C%E5%AF%A6%E4%BD%9C_02_%E8%B3%87%E6%96%99%E5%BA%AB%E4%B8%B2%E6%8E%A5.ipynb\" target=\"_parent\"><img src=\"https://colab.research.google.com/assets/colab-badge.svg\" alt=\"Open In Colab\"/></a>"
      ]
    },
    {
      "cell_type": "code",
      "execution_count": null,
      "metadata": {
        "id": "cSlh0zWgEtWi"
      },
      "outputs": [],
      "source": [
        "import requests\n",
        "import json\n",
        "import sqlite3\n",
        "import datetime\n",
        "\n",
        "conn = sqlite3.connect('example.db')\n",
        "c = conn.cursor()\n",
        "# 建立pharmacies的資料表並清空\n",
        "c.execute('CREATE TABLE IF NOT EXISTS pharmacies (city text,counts text,createAt datetime);')\n",
        "c.execute('DELETE FROM pharmacies;')\n",
        "\n",
        "\n",
        "# 獲得API資料\n",
        "url = 'https://raw.githubusercontent.com/kiang/pharmacies/master/json/points.json'\n",
        "response = requests.get(url)\n",
        "d = response.text\n",
        "data = json.loads(d)\n",
        "#計算各區域的藥局數量\n",
        "med_count = {}\n",
        "for d in data['features']:\n",
        "    county = d['properties']['address'][0:3]\n",
        "    if county not in med_count:\n",
        "        med_count[county] = 1\n",
        "    else:\n",
        "        med_count[county] +=1\n",
        "# 新增資料\n",
        "for key,value in med_count.items():\n",
        "    t = datetime.datetime.now()\n",
        "    c.execute(f\"INSERT INTO pharmacies VALUES ('{key}',{value},'{t}')\")\n",
        "    print(f\"INSERT INTO pharmacies VALUES ('{key}',{value},'{t}')\")\n",
        "\n",
        "#查詢資料\n",
        "c.execute('SELECT * FROM pharmacies;')\n",
        "print(c.fetchall())\n",
        "\n",
        "\n",
        "conn.commit()\n",
        "conn.close()"
      ]
    }
  ]
}