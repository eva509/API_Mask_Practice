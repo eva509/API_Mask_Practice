{
  "nbformat": 4,
  "nbformat_minor": 0,
  "metadata": {
    "colab": {
      "provenance": [],
      "authorship_tag": "ABX9TyOXZYeHoaN+O8PnN3quAEQ5",
      "include_colab_link": true
    },
    "kernelspec": {
      "name": "python3",
      "display_name": "Python 3"
    },
    "language_info": {
      "name": "python"
    }
  },
  "cells": [
    {
      "cell_type": "markdown",
      "metadata": {
        "id": "view-in-github",
        "colab_type": "text"
      },
      "source": [
        "<a href=\"https://colab.research.google.com/github/hui509/API_Mask_Practice/blob/main/%E5%B0%88%E9%A1%8C%E5%AF%A6%E4%BD%9C_01_%E5%8F%A3%E7%BD%A9%E8%B3%87%E6%96%99API%E4%B8%B2%E6%8E%A5.ipynb\" target=\"_parent\"><img src=\"https://colab.research.google.com/assets/colab-badge.svg\" alt=\"Open In Colab\"/></a>"
      ]
    },
    {
      "cell_type": "code",
      "execution_count": null,
      "metadata": {
        "id": "RTyImGNGINGg"
      },
      "outputs": [],
      "source": [
        "import requests\n",
        "import json\n",
        "\n",
        "# 利用 requests 對 API 來源發送一個請求\n",
        "url = 'https://raw.githubusercontent.com/kiang/pharmacies/master/json/points.json'\n",
        "response = requests.get(url)\n",
        "# 將請求回應的內容存成一個字串格式\n",
        "d = response.text\n",
        "# 將長得像 json 格式的字串解析成字典或列表\n",
        "data = json.loads(d)\n",
        "\n",
        "\n",
        "# 計算各區域的藥局數量\n",
        "med_count = {}\n",
        "for d in data[\"features\"]:\n",
        "    county = d['properties']['address'][0:3]\n",
        "    if county not in med_count:\n",
        "        med_count[county] = 1\n",
        "    else:\n",
        "        med_count[county] += 1        \n",
        "print(med_count)\n",
        "\n",
        "\n",
        "# 計算每個地區的成人剩餘口罩數量\n",
        "mask_count = {}\n",
        "for d in data[\"features\"]:\n",
        "    county = d['properties']['address'][0:3]\n",
        "    adult = d['properties']['mask_adult']\n",
        "    if county not in mask_count:\n",
        "        mask_count[county] = adult\n",
        "    else:\n",
        "        mask_count[county] += adult\n",
        "\n",
        "# 將結果從大到小排列\n",
        "mask_count = dict(sorted(mask_count.items(), key=lambda item: item[1],reverse=True))\n",
        "print(mask_count)"
      ]
    }
  ]
}